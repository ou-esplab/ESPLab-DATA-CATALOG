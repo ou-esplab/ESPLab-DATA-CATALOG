{
 "cells": [
  {
   "cell_type": "code",
   "execution_count": 1,
   "id": "a9f1b6da-c21c-44cb-b94e-4599b676e3a6",
   "metadata": {},
   "outputs": [
    {
     "ename": "ModuleNotFoundError",
     "evalue": "No module named 'intake'",
     "output_type": "error",
     "traceback": [
      "\u001b[0;31m---------------------------------------------------------------------------\u001b[0m",
      "\u001b[0;31mModuleNotFoundError\u001b[0m                       Traceback (most recent call last)",
      "Cell \u001b[0;32mIn[1], line 1\u001b[0m\n\u001b[0;32m----> 1\u001b[0m \u001b[38;5;28;01mimport\u001b[39;00m \u001b[38;5;21;01mintake\u001b[39;00m\n\u001b[1;32m      3\u001b[0m cat \u001b[38;5;241m=\u001b[39m intake\u001b[38;5;241m.\u001b[39mopen_catalog(\u001b[38;5;124m\"\u001b[39m\u001b[38;5;124mobs.yaml\u001b[39m\u001b[38;5;124m\"\u001b[39m, reload\u001b[38;5;241m=\u001b[39m\u001b[38;5;28;01mTrue\u001b[39;00m)\n\u001b[1;32m      4\u001b[0m \u001b[38;5;28mprint\u001b[39m(cat\u001b[38;5;241m.\u001b[39m_entries[\u001b[38;5;124m\"\u001b[39m\u001b[38;5;124mobs/gridded/atm/precip/monthly/CPC-UNI-HIRES\u001b[39m\u001b[38;5;124m\"\u001b[39m]\u001b[38;5;241m.\u001b[39mmetadata)\n",
      "\u001b[0;31mModuleNotFoundError\u001b[0m: No module named 'intake'"
     ]
    }
   ],
   "source": [
    "import intake\n",
    "\n",
    "cat = intake.open_catalog(\"obs.yaml\", reload=True)\n",
    "print(cat._entries[\"obs/gridded/atm/precip/monthly/CPC-UNI-HIRES\"].metadata)"
   ]
  },
  {
   "cell_type": "code",
   "execution_count": null,
   "id": "ea1ffd97-897c-4e6e-aa85-ac2eb5e5cef0",
   "metadata": {},
   "outputs": [],
   "source": []
  }
 ],
 "metadata": {
  "kernelspec": {
   "display_name": "Python (era5-env)",
   "language": "python",
   "name": "era5-env"
  },
  "language_info": {
   "codemirror_mode": {
    "name": "ipython",
    "version": 3
   },
   "file_extension": ".py",
   "mimetype": "text/x-python",
   "name": "python",
   "nbconvert_exporter": "python",
   "pygments_lexer": "ipython3",
   "version": "3.9.18"
  }
 },
 "nbformat": 4,
 "nbformat_minor": 5
}
